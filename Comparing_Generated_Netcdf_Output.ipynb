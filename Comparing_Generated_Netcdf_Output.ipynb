{
  "nbformat": 4,
  "nbformat_minor": 0,
  "metadata": {
    "colab": {
      "provenance": []
    },
    "kernelspec": {
      "name": "python3",
      "display_name": "Python 3"
    },
    "language_info": {
      "name": "python"
    }
  },
  "cells": [
    {
      "cell_type": "markdown",
      "source": [],
      "metadata": {
        "id": "QGLQ3RPRjMUN"
      }
    },
    {
      "cell_type": "code",
      "source": [
        "pip install netCDF4"
      ],
      "metadata": {
        "colab": {
          "base_uri": "https://localhost:8080/"
        },
        "id": "8uDIcEUQjNds",
        "outputId": "4a817951-4db9-44f3-99ab-15a411f7faf9"
      },
      "execution_count": 3,
      "outputs": [
        {
          "output_type": "stream",
          "name": "stdout",
          "text": [
            "Collecting netCDF4\n",
            "  Downloading netCDF4-1.7.2-cp310-cp310-manylinux_2_17_x86_64.manylinux2014_x86_64.whl.metadata (1.8 kB)\n",
            "Collecting cftime (from netCDF4)\n",
            "  Downloading cftime-1.6.4.post1-cp310-cp310-manylinux_2_17_x86_64.manylinux2014_x86_64.whl.metadata (8.7 kB)\n",
            "Requirement already satisfied: certifi in /usr/local/lib/python3.10/dist-packages (from netCDF4) (2024.8.30)\n",
            "Requirement already satisfied: numpy in /usr/local/lib/python3.10/dist-packages (from netCDF4) (1.26.4)\n",
            "Downloading netCDF4-1.7.2-cp310-cp310-manylinux_2_17_x86_64.manylinux2014_x86_64.whl (9.1 MB)\n",
            "\u001b[2K   \u001b[90m━━━━━━━━━━━━━━━━━━━━━━━━━━━━━━━━━━━━━━━━\u001b[0m \u001b[32m9.1/9.1 MB\u001b[0m \u001b[31m48.6 MB/s\u001b[0m eta \u001b[36m0:00:00\u001b[0m\n",
            "\u001b[?25hDownloading cftime-1.6.4.post1-cp310-cp310-manylinux_2_17_x86_64.manylinux2014_x86_64.whl (1.3 MB)\n",
            "\u001b[2K   \u001b[90m━━━━━━━━━━━━━━━━━━━━━━━━━━━━━━━━━━━━━━━━\u001b[0m \u001b[32m1.3/1.3 MB\u001b[0m \u001b[31m58.9 MB/s\u001b[0m eta \u001b[36m0:00:00\u001b[0m\n",
            "\u001b[?25hInstalling collected packages: cftime, netCDF4\n",
            "Successfully installed cftime-1.6.4.post1 netCDF4-1.7.2\n"
          ]
        }
      ]
    },
    {
      "cell_type": "markdown",
      "source": [
        "### Comparison of Generated Output with Given Output\n",
        "\n",
        "The comparison is divided into two key parts:\n",
        "\n",
        "1. **Identifying Missing Attributes**:  \n",
        "   This step checks for attributes present in the given output but missing in the generated output, ensuring completeness of the data.\n",
        "\n",
        "2. **Metadata Analysis**:  \n",
        "   Compares the metadata in both files to verify the presence of global attributes and evaluate consistency between the files."
      ],
      "metadata": {
        "id": "lGcfVgPLmIQs"
      }
    },
    {
      "cell_type": "markdown",
      "source": [
        "#NRS01A"
      ],
      "metadata": {
        "id": "c3gEhhNNng68"
      }
    },
    {
      "cell_type": "markdown",
      "source": [
        "Comparing NRS01A Output 1 with the given output"
      ],
      "metadata": {
        "id": "1-8Ny5N4jhaV"
      }
    },
    {
      "cell_type": "code",
      "execution_count": 5,
      "metadata": {
        "colab": {
          "base_uri": "https://localhost:8080/"
        },
        "id": "NB-FR-z1iYlK",
        "outputId": "2f20a039-0fa7-46db-e80d-827c4cbeb8fe"
      },
      "outputs": [
        {
          "output_type": "stream",
          "name": "stdout",
          "text": [
            "Variables missing in file2 compared to file1:\n",
            "- preamplifier_gain\n"
          ]
        }
      ],
      "source": [
        "import netCDF4\n",
        "\n",
        "def compare_netcdf_variables(file1, file2):\n",
        "    # Open the netCDF files\n",
        "    nc1 = netCDF4.Dataset(file1, mode='r')\n",
        "    nc2 = netCDF4.Dataset(file2, mode='r')\n",
        "\n",
        "    # Define the expected attributes in Output.nc\n",
        "    expected_attributes = {\n",
        "        \"timestamp\", \"effort\", \"psd\", \"quality_flag\", \"time\",\n",
        "        \"frequency\", \"cal_frequency\", \"analog_sensitivity\",\n",
        "        \"preamplifier_gain\", \"recorder_gain\", \"sensor_sensitivity\"\n",
        "    }\n",
        "\n",
        "    # Get variables from both files\n",
        "    variables_file1 = set(nc1.variables.keys())\n",
        "    variables_file2 = set(nc2.variables.keys())\n",
        "\n",
        "    # Find missing variables in file2\n",
        "    missing_in_file2 = expected_attributes - variables_file2\n",
        "\n",
        "    # Close the files\n",
        "    nc1.close()\n",
        "    nc2.close()\n",
        "\n",
        "    return missing_in_file2\n",
        "\n",
        "# Specify your file paths\n",
        "file1 = 'Output.nc'  # Reference file\n",
        "file2 = 'NRS01_H5R6B.1.5000_20180901_DAILY_MILLIDEC_MinRes_v3.nc'  # File to compare\n",
        "\n",
        "# Perform comparison\n",
        "missing_attributes = compare_netcdf_variables(file1, file2)\n",
        "\n",
        "# Display the results\n",
        "if missing_attributes:\n",
        "    print(\"Variables missing in file2 compared to file1:\")\n",
        "    for attr in missing_attributes:\n",
        "        print(f\"- {attr}\")\n",
        "else:\n",
        "    print(\"All expected variables are present in file2.\")\n"
      ]
    },
    {
      "cell_type": "code",
      "source": [
        "\n",
        "\n",
        "def compare_file_metadata(file1, file2):\n",
        "    \"\"\"\n",
        "    Compare metadata (static and dynamic) between two netCDF files.\n",
        "    Additionally, display metadata present in file1.\n",
        "\n",
        "    Parameters:\n",
        "        file1 (str): Path to the first netCDF file (reference file).\n",
        "        file2 (str): Path to the second netCDF file (comparison file).\n",
        "\n",
        "    Returns:\n",
        "        dict: Contains the differences in metadata between the two files.\n",
        "    \"\"\"\n",
        "    # Open the netCDF files\n",
        "    nc1 = netCDF4.Dataset(file1, mode='r')\n",
        "    nc2 = netCDF4.Dataset(file2, mode='r')\n",
        "\n",
        "    metadata_differences = {\n",
        "        \"global_missing_in_file2\": [],\n",
        "        \"global_extra_in_file2\": [],\n",
        "        \"global_in_file1\": [],\n",
        "        \"variable_missing_in_file2\": {},\n",
        "        \"variable_extra_in_file2\": {},\n",
        "        \"variable_in_file1\": {}\n",
        "    }\n",
        "\n",
        "    # Compare global metadata\n",
        "    file1_global_attrs = set(nc1.ncattrs())\n",
        "    file2_global_attrs = set(nc2.ncattrs())\n",
        "\n",
        "    metadata_differences[\"global_missing_in_file2\"] = list(file1_global_attrs - file2_global_attrs)\n",
        "    metadata_differences[\"global_extra_in_file2\"] = list(file2_global_attrs - file1_global_attrs)\n",
        "    metadata_differences[\"global_in_file1\"] = list(file1_global_attrs)\n",
        "\n",
        "    # Compare metadata for variables\n",
        "    for var in nc1.variables:\n",
        "        file1_var_attrs = set(nc1.variables[var].ncattrs())\n",
        "        metadata_differences[\"variable_in_file1\"][var] = list(file1_var_attrs)\n",
        "\n",
        "        if var in nc2.variables:\n",
        "            file2_var_attrs = set(nc2.variables[var].ncattrs())\n",
        "\n",
        "            missing_in_file2 = file1_var_attrs - file2_var_attrs\n",
        "            extra_in_file2 = file2_var_attrs - file1_var_attrs\n",
        "\n",
        "            if missing_in_file2:\n",
        "                metadata_differences[\"variable_missing_in_file2\"][var] = list(missing_in_file2)\n",
        "            if extra_in_file2:\n",
        "                metadata_differences[\"variable_extra_in_file2\"][var] = list(extra_in_file2)\n",
        "\n",
        "    # Close the netCDF files\n",
        "    nc1.close()\n",
        "    nc2.close()\n",
        "\n",
        "    return metadata_differences\n",
        "\n",
        "# Example usage\n",
        "file1 = 'Output.nc'  # Reference file\n",
        "file2 = 'NRS01_H5R6B.1.5000_20180901_DAILY_MILLIDEC_MinRes_v3.nc'  # File to compare\n",
        "\n",
        "metadata_diff = compare_file_metadata(file1, file2)\n",
        "\n",
        "# Display results\n",
        "print(\"Global attributes missing in file2:\", metadata_diff[\"global_missing_in_file2\"])\n",
        "print(\"Extra global attributes in file2:\", metadata_diff[\"global_extra_in_file2\"])\n",
        "print(\"Global attributes in file1:\", metadata_diff[\"global_in_file1\"])\n",
        "print(\"\\nVariable metadata missing in file2:\")\n",
        "for var, attrs in metadata_diff[\"variable_missing_in_file2\"].items():\n",
        "    print(f\"Variable '{var}': Missing attributes: {attrs}\")\n",
        "\n",
        "print(\"\\nExtra variable metadata in file2:\")\n",
        "for var, attrs in metadata_diff[\"variable_extra_in_file2\"].items():\n",
        "    print(f\"Variable '{var}': Extra attributes: {attrs}\")\n",
        "\n",
        "print(\"\\nVariable metadata in file1:\")\n",
        "for var, attrs in metadata_diff[\"variable_in_file1\"].items():\n",
        "    print(f\"Variable '{var}': Attributes in file1: {attrs}\")\n",
        "\n"
      ],
      "metadata": {
        "colab": {
          "base_uri": "https://localhost:8080/"
        },
        "id": "Qt6IMNl-kdK8",
        "outputId": "e832fde3-1072-45f7-fba3-1cb1e716e8a8"
      },
      "execution_count": 7,
      "outputs": [
        {
          "output_type": "stream",
          "name": "stdout",
          "text": [
            "Global attributes missing in file2: []\n",
            "Extra global attributes in file2: []\n",
            "Global attributes in file1: ['conventions', 'keywords', 'time_coverage_duration', 'history', 'time_coverage_resolution', 'summary', 'title', 'acknowledgement', 'product_version', 'creator_name', 'instrument', 'infoUrl', 'comment', 'license', 'project', 'publisher_email', 'institution', 'reference', 'time_offset', 'keywords_vocabulary', 'id', 'standard_name_vocabulary', 'publisher_type', 'citation', 'creator_role', 'naming_authority', 'geospatial_bounds', 'publisher_name', 'source', 'date_created', 'publisher_url']\n",
            "\n",
            "Variable metadata missing in file2:\n",
            "\n",
            "Extra variable metadata in file2:\n",
            "\n",
            "Variable metadata in file1:\n",
            "Variable 'timestamp': Attributes in file1: ['actual_range', 'long_name', 'units', 'standard_name']\n",
            "Variable 'effort': Attributes in file1: ['coverage_content_type', 'long_name', 'units']\n",
            "Variable 'psd': Attributes in file1: ['coverage_content_type', 'long_name', 'units', 'standard_name', 'comment']\n",
            "Variable 'quality_flag': Attributes in file1: ['coverage_content_type', 'long_name', 'comment', 'standard_name']\n",
            "Variable 'time': Attributes in file1: ['coverage_content_type', 'units', 'standard_name', 'actual_range', 'long_name']\n",
            "Variable 'frequency': Attributes in file1: ['coverage_content_type', 'units', 'standard_name', 'actual_range', 'long_name']\n",
            "Variable 'cal_frequency': Attributes in file1: ['long_name', 'units']\n",
            "Variable 'analog_sensitivity': Attributes in file1: ['comment', 'coverage_content_type', 'long_name', 'units']\n",
            "Variable 'preamp_gain': Attributes in file1: ['long_name', 'units']\n",
            "Variable 'recorder_gain': Attributes in file1: ['long_name', 'units']\n",
            "Variable 'sensor_sensitivity': Attributes in file1: ['comment', 'coverage_content_type', 'long_name', 'units']\n"
          ]
        }
      ]
    },
    {
      "cell_type": "markdown",
      "source": [
        "Comparing NRS01A Output 2 with the given output"
      ],
      "metadata": {
        "id": "_FoFzz32j-Fy"
      }
    },
    {
      "cell_type": "code",
      "source": [
        "\n",
        "\n",
        "def compare_netcdf_variables(file1, file2):\n",
        "    # Open the netCDF files\n",
        "    nc1 = netCDF4.Dataset(file1, mode='r')\n",
        "    nc2 = netCDF4.Dataset(file2, mode='r')\n",
        "\n",
        "    # Define the expected attributes in Output.nc\n",
        "    expected_attributes = {\n",
        "        \"timestamp\", \"effort\", \"psd\", \"quality_flag\", \"time\",\n",
        "        \"frequency\", \"cal_frequency\", \"analog_sensitivity\",\n",
        "        \"preamplifier_gain\", \"recorder_gain\", \"sensor_sensitivity\"\n",
        "    }\n",
        "\n",
        "    # Get variables from both files\n",
        "    variables_file1 = set(nc1.variables.keys())\n",
        "    variables_file2 = set(nc2.variables.keys())\n",
        "\n",
        "    # Find missing variables in file2\n",
        "    missing_in_file2 = expected_attributes - variables_file2\n",
        "\n",
        "    # Close the files\n",
        "    nc1.close()\n",
        "    nc2.close()\n",
        "\n",
        "    return missing_in_file2\n",
        "\n",
        "# Specify your file paths\n",
        "file1 = 'Output.nc'  # Reference file\n",
        "file2 = 'NRS01_H5R6B.1.5000_20180831_DAILY_MILLIDEC_MinRes_v3-2.nc'  # File to compare\n",
        "\n",
        "# Perform comparison\n",
        "missing_attributes = compare_netcdf_variables(file1, file2)\n",
        "\n",
        "# Display the results\n",
        "if missing_attributes:\n",
        "    print(\"Variables missing in file2 compared to file1:\")\n",
        "    for attr in missing_attributes:\n",
        "        print(f\"- {attr}\")\n",
        "else:\n",
        "    print(\"All expected variables are present in file2.\")"
      ],
      "metadata": {
        "colab": {
          "base_uri": "https://localhost:8080/"
        },
        "id": "XQpu11bpj82W",
        "outputId": "cab2bcad-6b6f-4930-b45d-23ae087dd893"
      },
      "execution_count": 8,
      "outputs": [
        {
          "output_type": "stream",
          "name": "stdout",
          "text": [
            "Variables missing in file2 compared to file1:\n",
            "- preamplifier_gain\n"
          ]
        }
      ]
    },
    {
      "cell_type": "code",
      "source": [
        "\n",
        "\n",
        "def compare_file_metadata(file1, file2):\n",
        "    \"\"\"\n",
        "    Compare metadata (static and dynamic) between two netCDF files.\n",
        "    Additionally, display metadata present in file1.\n",
        "\n",
        "    Parameters:\n",
        "        file1 (str): Path to the first netCDF file (reference file).\n",
        "        file2 (str): Path to the second netCDF file (comparison file).\n",
        "\n",
        "    Returns:\n",
        "        dict: Contains the differences in metadata between the two files.\n",
        "    \"\"\"\n",
        "    # Open the netCDF files\n",
        "    nc1 = netCDF4.Dataset(file1, mode='r')\n",
        "    nc2 = netCDF4.Dataset(file2, mode='r')\n",
        "\n",
        "    metadata_differences = {\n",
        "        \"global_missing_in_file2\": [],\n",
        "        \"global_extra_in_file2\": [],\n",
        "        \"global_in_file1\": [],\n",
        "        \"variable_missing_in_file2\": {},\n",
        "        \"variable_extra_in_file2\": {},\n",
        "        \"variable_in_file1\": {}\n",
        "    }\n",
        "\n",
        "    # Compare global metadata\n",
        "    file1_global_attrs = set(nc1.ncattrs())\n",
        "    file2_global_attrs = set(nc2.ncattrs())\n",
        "\n",
        "    metadata_differences[\"global_missing_in_file2\"] = list(file1_global_attrs - file2_global_attrs)\n",
        "    metadata_differences[\"global_extra_in_file2\"] = list(file2_global_attrs - file1_global_attrs)\n",
        "    metadata_differences[\"global_in_file1\"] = list(file1_global_attrs)\n",
        "\n",
        "    # Compare metadata for variables\n",
        "    for var in nc1.variables:\n",
        "        file1_var_attrs = set(nc1.variables[var].ncattrs())\n",
        "        metadata_differences[\"variable_in_file1\"][var] = list(file1_var_attrs)\n",
        "\n",
        "        if var in nc2.variables:\n",
        "            file2_var_attrs = set(nc2.variables[var].ncattrs())\n",
        "\n",
        "            missing_in_file2 = file1_var_attrs - file2_var_attrs\n",
        "            extra_in_file2 = file2_var_attrs - file1_var_attrs\n",
        "\n",
        "            if missing_in_file2:\n",
        "                metadata_differences[\"variable_missing_in_file2\"][var] = list(missing_in_file2)\n",
        "            if extra_in_file2:\n",
        "                metadata_differences[\"variable_extra_in_file2\"][var] = list(extra_in_file2)\n",
        "\n",
        "    # Close the netCDF files\n",
        "    nc1.close()\n",
        "    nc2.close()\n",
        "\n",
        "    return metadata_differences\n",
        "\n",
        "# Example usage\n",
        "file1 = 'Output.nc'  # Reference file\n",
        "file2 = 'NRS01_H5R6B.1.5000_20180831_DAILY_MILLIDEC_MinRes_v3-2.nc'  # File to compare\n",
        "\n",
        "metadata_diff = compare_file_metadata(file1, file2)\n",
        "\n",
        "# Display results\n",
        "print(\"Global attributes missing in file2:\", metadata_diff[\"global_missing_in_file2\"])\n",
        "print(\"Extra global attributes in file2:\", metadata_diff[\"global_extra_in_file2\"])\n",
        "print(\"Global attributes in file1:\", metadata_diff[\"global_in_file1\"])\n",
        "print(\"\\nVariable metadata missing in file2:\")\n",
        "for var, attrs in metadata_diff[\"variable_missing_in_file2\"].items():\n",
        "    print(f\"Variable '{var}': Missing attributes: {attrs}\")\n",
        "\n",
        "print(\"\\nExtra variable metadata in file2:\")\n",
        "for var, attrs in metadata_diff[\"variable_extra_in_file2\"].items():\n",
        "    print(f\"Variable '{var}': Extra attributes: {attrs}\")\n",
        "\n",
        "print(\"\\nVariable metadata in file1:\")\n",
        "for var, attrs in metadata_diff[\"variable_in_file1\"].items():\n",
        "    print(f\"Variable '{var}': Attributes in file1: {attrs}\")"
      ],
      "metadata": {
        "colab": {
          "base_uri": "https://localhost:8080/"
        },
        "id": "n0ok49Zaj88X",
        "outputId": "77cc514f-84de-465a-95d8-9edd7e5a8810"
      },
      "execution_count": 9,
      "outputs": [
        {
          "output_type": "stream",
          "name": "stdout",
          "text": [
            "Global attributes missing in file2: []\n",
            "Extra global attributes in file2: []\n",
            "Global attributes in file1: ['conventions', 'keywords', 'time_coverage_duration', 'history', 'time_coverage_resolution', 'summary', 'title', 'acknowledgement', 'product_version', 'creator_name', 'instrument', 'infoUrl', 'comment', 'license', 'project', 'publisher_email', 'institution', 'reference', 'time_offset', 'keywords_vocabulary', 'id', 'standard_name_vocabulary', 'publisher_type', 'citation', 'creator_role', 'naming_authority', 'geospatial_bounds', 'publisher_name', 'source', 'date_created', 'publisher_url']\n",
            "\n",
            "Variable metadata missing in file2:\n",
            "\n",
            "Extra variable metadata in file2:\n",
            "\n",
            "Variable metadata in file1:\n",
            "Variable 'timestamp': Attributes in file1: ['actual_range', 'long_name', 'units', 'standard_name']\n",
            "Variable 'effort': Attributes in file1: ['coverage_content_type', 'long_name', 'units']\n",
            "Variable 'psd': Attributes in file1: ['coverage_content_type', 'long_name', 'units', 'standard_name', 'comment']\n",
            "Variable 'quality_flag': Attributes in file1: ['coverage_content_type', 'long_name', 'comment', 'standard_name']\n",
            "Variable 'time': Attributes in file1: ['coverage_content_type', 'units', 'standard_name', 'actual_range', 'long_name']\n",
            "Variable 'frequency': Attributes in file1: ['coverage_content_type', 'units', 'standard_name', 'actual_range', 'long_name']\n",
            "Variable 'cal_frequency': Attributes in file1: ['long_name', 'units']\n",
            "Variable 'analog_sensitivity': Attributes in file1: ['comment', 'coverage_content_type', 'long_name', 'units']\n",
            "Variable 'preamp_gain': Attributes in file1: ['long_name', 'units']\n",
            "Variable 'recorder_gain': Attributes in file1: ['long_name', 'units']\n",
            "Variable 'sensor_sensitivity': Attributes in file1: ['comment', 'coverage_content_type', 'long_name', 'units']\n"
          ]
        }
      ]
    },
    {
      "cell_type": "markdown",
      "source": [
        "#NRS01B"
      ],
      "metadata": {
        "id": "qrep5kotmtBX"
      }
    },
    {
      "cell_type": "markdown",
      "source": [
        "Comparing NRS01B output 1 with the given output"
      ],
      "metadata": {
        "id": "-K8Ek6Lfmv-u"
      }
    },
    {
      "cell_type": "code",
      "source": [
        "\n",
        "\n",
        "def compare_netcdf_variables(file1, file2):\n",
        "    # Open the netCDF files\n",
        "    nc1 = netCDF4.Dataset(file1, mode='r')\n",
        "    nc2 = netCDF4.Dataset(file2, mode='r')\n",
        "\n",
        "    # Define the expected attributes in Output.nc\n",
        "    expected_attributes = {\n",
        "        \"timestamp\", \"effort\", \"psd\", \"quality_flag\", \"time\",\n",
        "        \"frequency\", \"cal_frequency\", \"analog_sensitivity\",\n",
        "        \"preamplifier_gain\", \"recorder_gain\", \"sensor_sensitivity\"\n",
        "    }\n",
        "\n",
        "    # Get variables from both files\n",
        "    variables_file1 = set(nc1.variables.keys())\n",
        "    variables_file2 = set(nc2.variables.keys())\n",
        "\n",
        "    # Find missing variables in file2\n",
        "    missing_in_file2 = expected_attributes - variables_file2\n",
        "\n",
        "    # Close the files\n",
        "    nc1.close()\n",
        "    nc2.close()\n",
        "\n",
        "    return missing_in_file2\n",
        "\n",
        "# Specify your file paths\n",
        "file1 = 'Output.nc'  # Reference file\n",
        "file2 = 'NRS01_2022_H5R6.1.5000_20200917_DAILY_MILLIDEC_MinRes_v3.nc'  # File to compare\n",
        "\n",
        "# Perform comparison\n",
        "missing_attributes = compare_netcdf_variables(file1, file2)\n",
        "\n",
        "# Display the results\n",
        "if missing_attributes:\n",
        "    print(\"Variables missing in file2 compared to file1:\")\n",
        "    for attr in missing_attributes:\n",
        "        print(f\"- {attr}\")\n",
        "else:\n",
        "    print(\"All expected variables are present in file2.\")"
      ],
      "metadata": {
        "colab": {
          "base_uri": "https://localhost:8080/"
        },
        "id": "FWrW_A2qj8_Q",
        "outputId": "1750375f-95a3-441a-ce50-a67e9cfa96c6"
      },
      "execution_count": 10,
      "outputs": [
        {
          "output_type": "stream",
          "name": "stdout",
          "text": [
            "Variables missing in file2 compared to file1:\n",
            "- preamplifier_gain\n"
          ]
        }
      ]
    },
    {
      "cell_type": "code",
      "source": [
        "\n",
        "\n",
        "def compare_file_metadata(file1, file2):\n",
        "    \"\"\"\n",
        "    Compare metadata (static and dynamic) between two netCDF files.\n",
        "    Additionally, display metadata present in file1.\n",
        "\n",
        "    Parameters:\n",
        "        file1 (str): Path to the first netCDF file (reference file).\n",
        "        file2 (str): Path to the second netCDF file (comparison file).\n",
        "\n",
        "    Returns:\n",
        "        dict: Contains the differences in metadata between the two files.\n",
        "    \"\"\"\n",
        "    # Open the netCDF files\n",
        "    nc1 = netCDF4.Dataset(file1, mode='r')\n",
        "    nc2 = netCDF4.Dataset(file2, mode='r')\n",
        "\n",
        "    metadata_differences = {\n",
        "        \"global_missing_in_file2\": [],\n",
        "        \"global_extra_in_file2\": [],\n",
        "        \"global_in_file1\": [],\n",
        "        \"variable_missing_in_file2\": {},\n",
        "        \"variable_extra_in_file2\": {},\n",
        "        \"variable_in_file1\": {}\n",
        "    }\n",
        "\n",
        "    # Compare global metadata\n",
        "    file1_global_attrs = set(nc1.ncattrs())\n",
        "    file2_global_attrs = set(nc2.ncattrs())\n",
        "\n",
        "    metadata_differences[\"global_missing_in_file2\"] = list(file1_global_attrs - file2_global_attrs)\n",
        "    metadata_differences[\"global_extra_in_file2\"] = list(file2_global_attrs - file1_global_attrs)\n",
        "    metadata_differences[\"global_in_file1\"] = list(file1_global_attrs)\n",
        "\n",
        "    # Compare metadata for variables\n",
        "    for var in nc1.variables:\n",
        "        file1_var_attrs = set(nc1.variables[var].ncattrs())\n",
        "        metadata_differences[\"variable_in_file1\"][var] = list(file1_var_attrs)\n",
        "\n",
        "        if var in nc2.variables:\n",
        "            file2_var_attrs = set(nc2.variables[var].ncattrs())\n",
        "\n",
        "            missing_in_file2 = file1_var_attrs - file2_var_attrs\n",
        "            extra_in_file2 = file2_var_attrs - file1_var_attrs\n",
        "\n",
        "            if missing_in_file2:\n",
        "                metadata_differences[\"variable_missing_in_file2\"][var] = list(missing_in_file2)\n",
        "            if extra_in_file2:\n",
        "                metadata_differences[\"variable_extra_in_file2\"][var] = list(extra_in_file2)\n",
        "\n",
        "    # Close the netCDF files\n",
        "    nc1.close()\n",
        "    nc2.close()\n",
        "\n",
        "    return metadata_differences\n",
        "\n",
        "# Example usage\n",
        "file1 = 'Output.nc'  # Reference file\n",
        "file2 = 'NRS01_2022_H5R6.1.5000_20200917_DAILY_MILLIDEC_MinRes_v3.nc'  # File to compare\n",
        "\n",
        "metadata_diff = compare_file_metadata(file1, file2)\n",
        "\n",
        "# Display results\n",
        "print(\"Global attributes missing in file2:\", metadata_diff[\"global_missing_in_file2\"])\n",
        "print(\"Extra global attributes in file2:\", metadata_diff[\"global_extra_in_file2\"])\n",
        "print(\"Global attributes in file1:\", metadata_diff[\"global_in_file1\"])\n",
        "print(\"\\nVariable metadata missing in file2:\")\n",
        "for var, attrs in metadata_diff[\"variable_missing_in_file2\"].items():\n",
        "    print(f\"Variable '{var}': Missing attributes: {attrs}\")\n",
        "\n",
        "print(\"\\nExtra variable metadata in file2:\")\n",
        "for var, attrs in metadata_diff[\"variable_extra_in_file2\"].items():\n",
        "    print(f\"Variable '{var}': Extra attributes: {attrs}\")\n",
        "\n",
        "print(\"\\nVariable metadata in file1:\")\n",
        "for var, attrs in metadata_diff[\"variable_in_file1\"].items():\n",
        "    print(f\"Variable '{var}': Attributes in file1: {attrs}\")"
      ],
      "metadata": {
        "colab": {
          "base_uri": "https://localhost:8080/"
        },
        "id": "BxFpSGqXj9DM",
        "outputId": "1721a330-30f3-4930-c1dd-497bd69bbcd0"
      },
      "execution_count": 11,
      "outputs": [
        {
          "output_type": "stream",
          "name": "stdout",
          "text": [
            "Global attributes missing in file2: []\n",
            "Extra global attributes in file2: []\n",
            "Global attributes in file1: ['conventions', 'keywords', 'time_coverage_duration', 'history', 'time_coverage_resolution', 'summary', 'title', 'acknowledgement', 'product_version', 'creator_name', 'instrument', 'infoUrl', 'comment', 'license', 'project', 'publisher_email', 'institution', 'reference', 'time_offset', 'keywords_vocabulary', 'id', 'standard_name_vocabulary', 'publisher_type', 'citation', 'creator_role', 'naming_authority', 'geospatial_bounds', 'publisher_name', 'source', 'date_created', 'publisher_url']\n",
            "\n",
            "Variable metadata missing in file2:\n",
            "\n",
            "Extra variable metadata in file2:\n",
            "\n",
            "Variable metadata in file1:\n",
            "Variable 'timestamp': Attributes in file1: ['actual_range', 'long_name', 'units', 'standard_name']\n",
            "Variable 'effort': Attributes in file1: ['coverage_content_type', 'long_name', 'units']\n",
            "Variable 'psd': Attributes in file1: ['coverage_content_type', 'long_name', 'units', 'standard_name', 'comment']\n",
            "Variable 'quality_flag': Attributes in file1: ['coverage_content_type', 'long_name', 'comment', 'standard_name']\n",
            "Variable 'time': Attributes in file1: ['coverage_content_type', 'units', 'standard_name', 'actual_range', 'long_name']\n",
            "Variable 'frequency': Attributes in file1: ['coverage_content_type', 'units', 'standard_name', 'actual_range', 'long_name']\n",
            "Variable 'cal_frequency': Attributes in file1: ['long_name', 'units']\n",
            "Variable 'analog_sensitivity': Attributes in file1: ['comment', 'coverage_content_type', 'long_name', 'units']\n",
            "Variable 'preamp_gain': Attributes in file1: ['long_name', 'units']\n",
            "Variable 'recorder_gain': Attributes in file1: ['long_name', 'units']\n",
            "Variable 'sensor_sensitivity': Attributes in file1: ['comment', 'coverage_content_type', 'long_name', 'units']\n"
          ]
        }
      ]
    },
    {
      "cell_type": "markdown",
      "source": [
        "Comparing NRS01B Output 2 with the given output"
      ],
      "metadata": {
        "id": "lPotseIPnp9Q"
      }
    },
    {
      "cell_type": "code",
      "source": [
        "\n",
        "\n",
        "def compare_netcdf_variables(file1, file2):\n",
        "    # Open the netCDF files\n",
        "    nc1 = netCDF4.Dataset(file1, mode='r')\n",
        "    nc2 = netCDF4.Dataset(file2, mode='r')\n",
        "\n",
        "    # Define the expected attributes in Output.nc\n",
        "    expected_attributes = {\n",
        "        \"timestamp\", \"effort\", \"psd\", \"quality_flag\", \"time\",\n",
        "        \"frequency\", \"cal_frequency\", \"analog_sensitivity\",\n",
        "        \"preamplifier_gain\", \"recorder_gain\", \"sensor_sensitivity\"\n",
        "    }\n",
        "\n",
        "    # Get variables from both files\n",
        "    variables_file1 = set(nc1.variables.keys())\n",
        "    variables_file2 = set(nc2.variables.keys())\n",
        "\n",
        "    # Find missing variables in file2\n",
        "    missing_in_file2 = expected_attributes - variables_file2\n",
        "\n",
        "    # Close the files\n",
        "    nc1.close()\n",
        "    nc2.close()\n",
        "\n",
        "    return missing_in_file2\n",
        "\n",
        "# Specify your file paths\n",
        "file1 = 'Output.nc'  # Reference file\n",
        "file2 = 'NRS01_2022_H5R6.1.5000_20200916_DAILY_MILLIDEC_MinRes_v3.nc'  # File to compare\n",
        "\n",
        "# Perform comparison\n",
        "missing_attributes = compare_netcdf_variables(file1, file2)\n",
        "\n",
        "# Display the results\n",
        "if missing_attributes:\n",
        "    print(\"Variables missing in file2 compared to file1:\")\n",
        "    for attr in missing_attributes:\n",
        "        print(f\"- {attr}\")\n",
        "else:\n",
        "    print(\"All expected variables are present in file2.\")"
      ],
      "metadata": {
        "colab": {
          "base_uri": "https://localhost:8080/"
        },
        "id": "0O1xR6Pjnu8M",
        "outputId": "4529bb48-d895-4ee5-a634-312b332cc847"
      },
      "execution_count": 12,
      "outputs": [
        {
          "output_type": "stream",
          "name": "stdout",
          "text": [
            "Variables missing in file2 compared to file1:\n",
            "- preamplifier_gain\n"
          ]
        }
      ]
    },
    {
      "cell_type": "code",
      "source": [
        "\n",
        "\n",
        "def compare_file_metadata(file1, file2):\n",
        "    \"\"\"\n",
        "    Compare metadata (static and dynamic) between two netCDF files.\n",
        "    Additionally, display metadata present in file1.\n",
        "\n",
        "    Parameters:\n",
        "        file1 (str): Path to the first netCDF file (reference file).\n",
        "        file2 (str): Path to the second netCDF file (comparison file).\n",
        "\n",
        "    Returns:\n",
        "        dict: Contains the differences in metadata between the two files.\n",
        "    \"\"\"\n",
        "    # Open the netCDF files\n",
        "    nc1 = netCDF4.Dataset(file1, mode='r')\n",
        "    nc2 = netCDF4.Dataset(file2, mode='r')\n",
        "\n",
        "    metadata_differences = {\n",
        "        \"global_missing_in_file2\": [],\n",
        "        \"global_extra_in_file2\": [],\n",
        "        \"global_in_file1\": [],\n",
        "        \"variable_missing_in_file2\": {},\n",
        "        \"variable_extra_in_file2\": {},\n",
        "        \"variable_in_file1\": {}\n",
        "    }\n",
        "\n",
        "    # Compare global metadata\n",
        "    file1_global_attrs = set(nc1.ncattrs())\n",
        "    file2_global_attrs = set(nc2.ncattrs())\n",
        "\n",
        "    metadata_differences[\"global_missing_in_file2\"] = list(file1_global_attrs - file2_global_attrs)\n",
        "    metadata_differences[\"global_extra_in_file2\"] = list(file2_global_attrs - file1_global_attrs)\n",
        "    metadata_differences[\"global_in_file1\"] = list(file1_global_attrs)\n",
        "\n",
        "    # Compare metadata for variables\n",
        "    for var in nc1.variables:\n",
        "        file1_var_attrs = set(nc1.variables[var].ncattrs())\n",
        "        metadata_differences[\"variable_in_file1\"][var] = list(file1_var_attrs)\n",
        "\n",
        "        if var in nc2.variables:\n",
        "            file2_var_attrs = set(nc2.variables[var].ncattrs())\n",
        "\n",
        "            missing_in_file2 = file1_var_attrs - file2_var_attrs\n",
        "            extra_in_file2 = file2_var_attrs - file1_var_attrs\n",
        "\n",
        "            if missing_in_file2:\n",
        "                metadata_differences[\"variable_missing_in_file2\"][var] = list(missing_in_file2)\n",
        "            if extra_in_file2:\n",
        "                metadata_differences[\"variable_extra_in_file2\"][var] = list(extra_in_file2)\n",
        "\n",
        "    # Close the netCDF files\n",
        "    nc1.close()\n",
        "    nc2.close()\n",
        "\n",
        "    return metadata_differences\n",
        "\n",
        "# Example usage\n",
        "file1 = 'Output.nc'  # Reference file\n",
        "file2 = 'NRS01_2022_H5R6.1.5000_20200916_DAILY_MILLIDEC_MinRes_v3.nc'  # File to compare\n",
        "\n",
        "metadata_diff = compare_file_metadata(file1, file2)\n",
        "\n",
        "# Display results\n",
        "print(\"Global attributes missing in file2:\", metadata_diff[\"global_missing_in_file2\"])\n",
        "print(\"Extra global attributes in file2:\", metadata_diff[\"global_extra_in_file2\"])\n",
        "print(\"Global attributes in file1:\", metadata_diff[\"global_in_file1\"])\n",
        "print(\"\\nVariable metadata missing in file2:\")\n",
        "for var, attrs in metadata_diff[\"variable_missing_in_file2\"].items():\n",
        "    print(f\"Variable '{var}': Missing attributes: {attrs}\")\n",
        "\n",
        "print(\"\\nExtra variable metadata in file2:\")\n",
        "for var, attrs in metadata_diff[\"variable_extra_in_file2\"].items():\n",
        "    print(f\"Variable '{var}': Extra attributes: {attrs}\")\n",
        "\n",
        "print(\"\\nVariable metadata in file1:\")\n",
        "for var, attrs in metadata_diff[\"variable_in_file1\"].items():\n",
        "    print(f\"Variable '{var}': Attributes in file1: {attrs}\")"
      ],
      "metadata": {
        "colab": {
          "base_uri": "https://localhost:8080/"
        },
        "id": "H10PozdJnvB8",
        "outputId": "c99522ca-dd0e-490a-8c39-b7a86d19e1c1"
      },
      "execution_count": 13,
      "outputs": [
        {
          "output_type": "stream",
          "name": "stdout",
          "text": [
            "Global attributes missing in file2: []\n",
            "Extra global attributes in file2: []\n",
            "Global attributes in file1: ['conventions', 'keywords', 'time_coverage_duration', 'history', 'time_coverage_resolution', 'summary', 'title', 'acknowledgement', 'product_version', 'creator_name', 'instrument', 'infoUrl', 'comment', 'license', 'project', 'publisher_email', 'institution', 'reference', 'time_offset', 'keywords_vocabulary', 'id', 'standard_name_vocabulary', 'publisher_type', 'citation', 'creator_role', 'naming_authority', 'geospatial_bounds', 'publisher_name', 'source', 'date_created', 'publisher_url']\n",
            "\n",
            "Variable metadata missing in file2:\n",
            "\n",
            "Extra variable metadata in file2:\n",
            "\n",
            "Variable metadata in file1:\n",
            "Variable 'timestamp': Attributes in file1: ['actual_range', 'long_name', 'units', 'standard_name']\n",
            "Variable 'effort': Attributes in file1: ['coverage_content_type', 'long_name', 'units']\n",
            "Variable 'psd': Attributes in file1: ['coverage_content_type', 'long_name', 'units', 'standard_name', 'comment']\n",
            "Variable 'quality_flag': Attributes in file1: ['coverage_content_type', 'long_name', 'comment', 'standard_name']\n",
            "Variable 'time': Attributes in file1: ['coverage_content_type', 'units', 'standard_name', 'actual_range', 'long_name']\n",
            "Variable 'frequency': Attributes in file1: ['coverage_content_type', 'units', 'standard_name', 'actual_range', 'long_name']\n",
            "Variable 'cal_frequency': Attributes in file1: ['long_name', 'units']\n",
            "Variable 'analog_sensitivity': Attributes in file1: ['comment', 'coverage_content_type', 'long_name', 'units']\n",
            "Variable 'preamp_gain': Attributes in file1: ['long_name', 'units']\n",
            "Variable 'recorder_gain': Attributes in file1: ['long_name', 'units']\n",
            "Variable 'sensor_sensitivity': Attributes in file1: ['comment', 'coverage_content_type', 'long_name', 'units']\n"
          ]
        }
      ]
    },
    {
      "cell_type": "code",
      "source": [
        "\n",
        "\n",
        "def compare_variable_metadata(file1, file2):\n",
        "    \"\"\"\n",
        "    Compare variable metadata between two netCDF files.\n",
        "\n",
        "    Parameters:\n",
        "        file1 (str): Path to the reference file (given output).\n",
        "        file2 (str): Path to the file to compare (generated file).\n",
        "\n",
        "    Returns:\n",
        "        dict: Differences in variable metadata.\n",
        "    \"\"\"\n",
        "    nc1 = netCDF4.Dataset(file1, 'r')\n",
        "    nc2 = netCDF4.Dataset(file2, 'r')\n",
        "\n",
        "    metadata_comparison = {\n",
        "        \"missing_metadata_in_file2\": {},\n",
        "        \"extra_metadata_in_file2\": {},\n",
        "        \"variables_only_in_file1\": []\n",
        "    }\n",
        "\n",
        "    for var in nc1.variables:\n",
        "        if var not in nc2.variables:\n",
        "            metadata_comparison[\"variables_only_in_file1\"].append(var)\n",
        "        else:\n",
        "            # Compare metadata attributes for the variable\n",
        "            file1_attrs = set(nc1.variables[var].ncattrs())\n",
        "            file2_attrs = set(nc2.variables[var].ncattrs())\n",
        "\n",
        "            missing_in_file2 = file1_attrs - file2_attrs\n",
        "            extra_in_file2 = file2_attrs - file1_attrs\n",
        "\n",
        "            if missing_in_file2:\n",
        "                metadata_comparison[\"missing_metadata_in_file2\"][var] = list(missing_in_file2)\n",
        "            if extra_in_file2:\n",
        "                metadata_comparison[\"extra_metadata_in_file2\"][var] = list(extra_in_file2)\n",
        "\n",
        "    nc1.close()\n",
        "    nc2.close()\n",
        "\n",
        "    return metadata_comparison\n",
        "\n",
        "# Example usage\n",
        "file1 = 'Output.nc'  # Reference file\n",
        "file2 = 'NRS01_2022_H5R6.1.5000_20200916_DAILY_MILLIDEC_MinRes_v3.nc'  # File to compare\n",
        "\n",
        "result = compare_variable_metadata(file1, file2)\n",
        "\n",
        "print(\"Variables only in file1:\", result[\"variables_only_in_file1\"])\n",
        "print(\"Missing metadata in file2:\")\n",
        "for var, attrs in result[\"missing_metadata_in_file2\"].items():\n",
        "    print(f\"  - Variable '{var}': Missing attributes {attrs}\")\n",
        "print(\"Extra metadata in file2:\")\n",
        "for var, attrs in result[\"extra_metadata_in_file2\"].items():\n",
        "    print(f\"  - Variable '{var}': Extra attributes {attrs}\")\n"
      ],
      "metadata": {
        "colab": {
          "base_uri": "https://localhost:8080/"
        },
        "id": "yEYprHRuqAFY",
        "outputId": "58bab98d-25ab-4372-96da-2ad8364a48f3"
      },
      "execution_count": 14,
      "outputs": [
        {
          "output_type": "stream",
          "name": "stdout",
          "text": [
            "Variables only in file1: []\n",
            "Missing metadata in file2:\n",
            "Extra metadata in file2:\n"
          ]
        }
      ]
    },
    {
      "cell_type": "markdown",
      "source": [
        "#Code to Check Missing PSD Values"
      ],
      "metadata": {
        "id": "eJViHX81zTZe"
      }
    },
    {
      "cell_type": "code",
      "source": [
        "import netCDF4\n",
        "import numpy as np\n",
        "\n",
        "def check_missing_psd_multiple_files(file_paths):\n",
        "    \"\"\"\n",
        "    Checks for missing PSD values in multiple netCDF files.\n",
        "\n",
        "    Parameters:\n",
        "        file_paths (list): List of paths to netCDF files.\n",
        "\n",
        "    Returns:\n",
        "        dict: Results for each file, including total PSD values, missing values, and percentage of missing values.\n",
        "    \"\"\"\n",
        "    results = {}\n",
        "\n",
        "    for file_path in file_paths:\n",
        "        try:\n",
        "            # Open the netCDF file\n",
        "            nc = netCDF4.Dataset(file_path, mode='r')\n",
        "\n",
        "            # Check if 'psd' variable exists\n",
        "            if 'psd' not in nc.variables:\n",
        "                results[file_path] = {\"error\": \"PSD variable not found in the file.\"}\n",
        "                nc.close()\n",
        "                continue\n",
        "\n",
        "            # Extract PSD data\n",
        "            psd_data = nc.variables['psd'][:]\n",
        "\n",
        "            # Count missing values (NaN)\n",
        "            missing_count = np.count_nonzero(np.isnan(psd_data))\n",
        "            total_count = psd_data.size\n",
        "            missing_percentage = (missing_count / total_count) * 100\n",
        "\n",
        "            # Store results\n",
        "            results[file_path] = {\n",
        "                \"total_count\": total_count,\n",
        "                \"missing_count\": missing_count,\n",
        "                \"missing_percentage\": missing_percentage\n",
        "            }\n",
        "\n",
        "            # Close the netCDF file\n",
        "            nc.close()\n",
        "\n",
        "        except Exception as e:\n",
        "            # Handle errors gracefully\n",
        "            results[file_path] = {\"error\": str(e)}\n",
        "\n",
        "    return results\n",
        "\n",
        "# Example usage\n",
        "file_paths = [\"NRS01_2022_H5R6.1.5000_20200916_DAILY_MILLIDEC_MinRes_v3.nc\", \"NRS01_2022_H5R6.1.5000_20200917_DAILY_MILLIDEC_MinRes_v3.nc\", \"NRS01_H5R6B.1.5000_20180831_DAILY_MILLIDEC_MinRes_v3-2.nc\", \"NRS01_H5R6B.1.5000_20180901_DAILY_MILLIDEC_MinRes_v3.nc\"]  # Replace with actual file paths\n",
        "\n",
        "results = check_missing_psd_multiple_files(file_paths)\n",
        "\n",
        "# Display results\n",
        "for file, result in results.items():\n",
        "    print(f\"\\nResults for {file}:\")\n",
        "    if \"error\" in result:\n",
        "        print(f\"  Error: {result['error']}\")\n",
        "    else:\n",
        "        print(f\"  Total PSD values: {result['total_count']}\")\n",
        "        print(f\"  Missing PSD values: {result['missing_count']}\")\n",
        "        print(f\"  Percentage of missing PSD values: {result['missing_percentage']:.2f}%\")\n",
        "\n"
      ],
      "metadata": {
        "colab": {
          "base_uri": "https://localhost:8080/"
        },
        "id": "gJIXiv8uzSx1",
        "outputId": "cf04ff3a-67c1-4916-8219-ba79a4a5a899"
      },
      "execution_count": 18,
      "outputs": [
        {
          "output_type": "stream",
          "name": "stdout",
          "text": [
            "\n",
            "Results for NRS01_2022_H5R6.1.5000_20200916_DAILY_MILLIDEC_MinRes_v3.nc:\n",
            "  Total PSD values: 1719605\n",
            "  Missing PSD values: 1439\n",
            "  Percentage of missing PSD values: 0.08%\n",
            "\n",
            "Results for NRS01_2022_H5R6.1.5000_20200917_DAILY_MILLIDEC_MinRes_v3.nc:\n",
            "  Total PSD values: 1719605\n",
            "  Missing PSD values: 1439\n",
            "  Percentage of missing PSD values: 0.08%\n",
            "\n",
            "Results for NRS01_H5R6B.1.5000_20180831_DAILY_MILLIDEC_MinRes_v3-2.nc:\n",
            "  Total PSD values: 1719605\n",
            "  Missing PSD values: 1439\n",
            "  Percentage of missing PSD values: 0.08%\n",
            "\n",
            "Results for NRS01_H5R6B.1.5000_20180901_DAILY_MILLIDEC_MinRes_v3.nc:\n",
            "  Total PSD values: 1719605\n",
            "  Missing PSD values: 1439\n",
            "  Percentage of missing PSD values: 0.08%\n"
          ]
        }
      ]
    },
    {
      "cell_type": "markdown",
      "source": [
        "#Quality Matrix Check for Multiple Files\n",
        "This script checks the quality_flag variable across up to four netCDF files to identify:\n",
        "\n",
        "Unique Values: Lists all unique values present in the quality matrix for each file.\n",
        "\n",
        "\n",
        "Unexpected Values: Highlights any values outside the specified default range (e.g., [0, 1]).\n",
        "\n",
        "\n",
        "Errors: Captures issues such as missing variables or inaccessible files."
      ],
      "metadata": {
        "id": "Xb0a51mpz2OV"
      }
    },
    {
      "cell_type": "code",
      "source": [
        "import netCDF4\n",
        "import numpy as np\n",
        "\n",
        "def check_quality_matrix_multiple_files(file_paths, quality_var_name=\"quality_flag\", default_values=[0, 1]):\n",
        "    \"\"\"\n",
        "    Checks if the quality matrix in multiple netCDF files contains values other than the default values.\n",
        "\n",
        "    Parameters:\n",
        "        file_paths (list): List of paths to the netCDF files.\n",
        "        quality_var_name (str): Name of the quality matrix variable (default: 'quality_flag').\n",
        "        default_values (list): List of expected default values (default: [0, 1]).\n",
        "\n",
        "    Returns:\n",
        "        dict: Results for each file, including unique values and unexpected values.\n",
        "    \"\"\"\n",
        "    results = {}\n",
        "\n",
        "    for file_path in file_paths:\n",
        "        try:\n",
        "            # Open the netCDF file\n",
        "            nc = netCDF4.Dataset(file_path, mode='r')\n",
        "\n",
        "            # Check if the quality matrix exists\n",
        "            if quality_var_name not in nc.variables:\n",
        "                results[file_path] = {\n",
        "                    \"error\": f\"Variable '{quality_var_name}' not found in the file.\"\n",
        "                }\n",
        "                nc.close()\n",
        "                continue\n",
        "\n",
        "            # Extract the quality matrix data\n",
        "            quality_data = nc.variables[quality_var_name][:]\n",
        "\n",
        "            # Find unique values in the quality matrix\n",
        "            unique_values = np.unique(quality_data)\n",
        "\n",
        "            # Check for unexpected values\n",
        "            unexpected_values = [value for value in unique_values if value not in default_values]\n",
        "\n",
        "            # Store results\n",
        "            results[file_path] = {\n",
        "                \"unique_values\": unique_values.tolist(),\n",
        "                \"unexpected_values\": unexpected_values\n",
        "            }\n",
        "\n",
        "            # Close the netCDF file\n",
        "            nc.close()\n",
        "\n",
        "        except Exception as e:\n",
        "            # Handle errors gracefully\n",
        "            results[file_path] = {\"error\": str(e)}\n",
        "\n",
        "    return results\n",
        "\n",
        "# Example usage\n",
        "file_paths = [\"NRS01_2022_H5R6.1.5000_20200916_DAILY_MILLIDEC_MinRes_v3.nc\", \"NRS01_2022_H5R6.1.5000_20200917_DAILY_MILLIDEC_MinRes_v3.nc\", \"NRS01_H5R6B.1.5000_20180831_DAILY_MILLIDEC_MinRes_v3-2.nc\", \"NRS01_H5R6B.1.5000_20180901_DAILY_MILLIDEC_MinRes_v3.nc\"]  # Replace with actual file paths\n",
        "results = check_quality_matrix_multiple_files(file_paths, default_values=[0, 1])\n",
        "\n",
        "# Display results\n",
        "for file, result in results.items():\n",
        "    print(f\"\\nResults for {file}:\")\n",
        "    if \"error\" in result:\n",
        "        print(f\"  Error: {result['error']}\")\n",
        "    else:\n",
        "        print(f\"  Unique values in quality matrix: {result['unique_values']}\")\n",
        "        if result[\"unexpected_values\"]:\n",
        "            print(f\"  Unexpected values in quality matrix: {result['unexpected_values']}\")\n",
        "        else:\n",
        "            print(\"  No unexpected values found in the quality matrix.\")\n",
        "\n"
      ],
      "metadata": {
        "colab": {
          "base_uri": "https://localhost:8080/"
        },
        "id": "xcj4ZxlHz2dZ",
        "outputId": "125a3fd9-f9d7-48cb-d2cc-14dd9aa1861a"
      },
      "execution_count": 17,
      "outputs": [
        {
          "output_type": "stream",
          "name": "stdout",
          "text": [
            "\n",
            "Results for NRS01_2022_H5R6.1.5000_20200916_DAILY_MILLIDEC_MinRes_v3.nc:\n",
            "  Unique values in quality matrix: [2]\n",
            "  Unexpected values in quality matrix: [2]\n",
            "\n",
            "Results for NRS01_2022_H5R6.1.5000_20200917_DAILY_MILLIDEC_MinRes_v3.nc:\n",
            "  Unique values in quality matrix: [2]\n",
            "  Unexpected values in quality matrix: [2]\n",
            "\n",
            "Results for NRS01_H5R6B.1.5000_20180831_DAILY_MILLIDEC_MinRes_v3-2.nc:\n",
            "  Unique values in quality matrix: [1, 4]\n",
            "  Unexpected values in quality matrix: [4]\n",
            "\n",
            "Results for NRS01_H5R6B.1.5000_20180901_DAILY_MILLIDEC_MinRes_v3.nc:\n",
            "  Unique values in quality matrix: [1, 4]\n",
            "  Unexpected values in quality matrix: [4]\n"
          ]
        }
      ]
    },
    {
      "cell_type": "markdown",
      "source": [
        "# Conclusion\n",
        "\n",
        "\n",
        "\n",
        "The comparison and analysis of the generated files revealed the following insights:\n",
        "\n",
        "1. **Data Quality Matrix**:\n",
        "   - The data quality matrix in NRS01B outputs is set to default, as noted by Carrie. However, the NRS01A outputs show variations across sub-directories.\n",
        "   - Upon examining the files using Panoply and myHDF5, it was observed that the generated outputs have symmetrical patterns similar to the given output file, confirming the code's functionality.\n",
        "   - Since the values differ across sub-directories but are identical for NRS01B files, this suggests that the default values in NRS01B could be file-specific rather than an issue with the code. Further domain expertise is needed to confirm the correctness of the data quality flag values.\n",
        "\n",
        "2. **PSD Values**:\n",
        "   - Each output file contains unique PSD values, indicating the code is generating valid, non-default results.\n",
        "   - Across all files, 1,439 PSD values (0.08% of the total 1,719,605) are missing. While the missing values will be addressed, the uniqueness of the PSD values demonstrates that the code is working as intended.\n",
        "\n",
        "3. **Pre-Amp Gain Attribute**:\n",
        "   - The pre-amp gain attribute is missing or has a default value of `0.000e+0` throughout the output files. The same default value appears in the sample output file, suggesting that it might be the expected value for this dataset.\n",
        "   - The code will be checked to ensure there are no errors in generating the pre-amp gain attribute. Clarification on the expected values for this attribute is requested to confirm its correctness.\n",
        "\n",
        "4. **Metadata**:\n",
        "   - Some metadata values are missing in the output files, but comparisons show that each file has unique metadata attributes, indicating that the code is functioning correctly and producing distinct outputs.\n",
        "   - CSV files within the same sub-directory are more similar compared to files across different directories, further reflecting the integrity of the generated data.\n",
        "\n",
        "Overall, the code is effectively generating unique outputs across files and directories. The identified issues (missing PSD values, pre-amp gain attribute, and some metadata) will be investigated and addressed. Feedback on the expected values for the pre-amp gain attribute and the data quality matrix is crucial for further refinement."
      ],
      "metadata": {
        "id": "QXCBy4Pqq5Cc"
      }
    }
  ]
}