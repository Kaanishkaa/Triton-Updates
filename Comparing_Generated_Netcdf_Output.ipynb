{
  "nbformat": 4,
  "nbformat_minor": 0,
  "metadata": {
    "colab": {
      "provenance": []
    },
    "kernelspec": {
      "name": "python3",
      "display_name": "Python 3"
    },
    "language_info": {
      "name": "python"
    }
  },
  "cells": [
    {
      "cell_type": "markdown",
      "source": [],
      "metadata": {
        "id": "QGLQ3RPRjMUN"
      }
    },
    {
      "cell_type": "code",
      "source": [
        "pip install netCDF4"
      ],
      "metadata": {
        "colab": {
          "base_uri": "https://localhost:8080/"
        },
        "id": "8uDIcEUQjNds",
        "outputId": "4a817951-4db9-44f3-99ab-15a411f7faf9"
      },
      "execution_count": 3,
      "outputs": [
        {
          "output_type": "stream",
          "name": "stdout",
          "text": [
            "Collecting netCDF4\n",
            "  Downloading netCDF4-1.7.2-cp310-cp310-manylinux_2_17_x86_64.manylinux2014_x86_64.whl.metadata (1.8 kB)\n",
            "Collecting cftime (from netCDF4)\n",
            "  Downloading cftime-1.6.4.post1-cp310-cp310-manylinux_2_17_x86_64.manylinux2014_x86_64.whl.metadata (8.7 kB)\n",
            "Requirement already satisfied: certifi in /usr/local/lib/python3.10/dist-packages (from netCDF4) (2024.8.30)\n",
            "Requirement already satisfied: numpy in /usr/local/lib/python3.10/dist-packages (from netCDF4) (1.26.4)\n",
            "Downloading netCDF4-1.7.2-cp310-cp310-manylinux_2_17_x86_64.manylinux2014_x86_64.whl (9.1 MB)\n",
            "\u001b[2K   \u001b[90m━━━━━━━━━━━━━━━━━━━━━━━━━━━━━━━━━━━━━━━━\u001b[0m \u001b[32m9.1/9.1 MB\u001b[0m \u001b[31m48.6 MB/s\u001b[0m eta \u001b[36m0:00:00\u001b[0m\n",
            "\u001b[?25hDownloading cftime-1.6.4.post1-cp310-cp310-manylinux_2_17_x86_64.manylinux2014_x86_64.whl (1.3 MB)\n",
            "\u001b[2K   \u001b[90m━━━━━━━━━━━━━━━━━━━━━━━━━━━━━━━━━━━━━━━━\u001b[0m \u001b[32m1.3/1.3 MB\u001b[0m \u001b[31m58.9 MB/s\u001b[0m eta \u001b[36m0:00:00\u001b[0m\n",
            "\u001b[?25hInstalling collected packages: cftime, netCDF4\n",
            "Successfully installed cftime-1.6.4.post1 netCDF4-1.7.2\n"
          ]
        }
      ]
    },
    {
      "cell_type": "markdown",
      "source": [
        "### Comparison of Generated Output with Given Output\n",
        "\n",
        "The comparison is divided into two key parts:\n",
        "\n",
        "1. **Identifying Missing Attributes**:  \n",
        "   This step checks for attributes present in the given output but missing in the generated output, ensuring completeness of the data.\n",
        "\n",
        "2. **Metadata Analysis**:  \n",
        "   Compares the metadata in both files to verify the presence of global attributes and evaluate consistency between the files."
      ],
      "metadata": {
        "id": "lGcfVgPLmIQs"
      }
    },
    {
      "cell_type": "markdown",
      "source": [
        "#NRS01A"
      ],
      "metadata": {
        "id": "c3gEhhNNng68"
      }
    },
    {
      "cell_type": "markdown",
      "source": [
        "Comparing NRS01A Output 1 with the given output"
      ],
      "metadata": {
        "id": "1-8Ny5N4jhaV"
      }
    },
    {
      "cell_type": "code",
      "execution_count": 5,
      "metadata": {
        "colab": {
          "base_uri": "https://localhost:8080/"
        },
        "id": "NB-FR-z1iYlK",
        "outputId": "2f20a039-0fa7-46db-e80d-827c4cbeb8fe"
      },
      "outputs": [
        {
          "output_type": "stream",
          "name": "stdout",
          "text": [
            "Variables missing in file2 compared to file1:\n",
            "- preamplifier_gain\n"
          ]
        }
      ],
      "source": [
        "import netCDF4\n",
        "\n",
        "def compare_netcdf_variables(file1, file2):\n",
        "    # Open the netCDF files\n",
        "    nc1 = netCDF4.Dataset(file1, mode='r')\n",
        "    nc2 = netCDF4.Dataset(file2, mode='r')\n",
        "\n",
        "    # Define the expected attributes in Output.nc\n",
        "    expected_attributes = {\n",
        "        \"timestamp\", \"effort\", \"psd\", \"quality_flag\", \"time\",\n",
        "        \"frequency\", \"cal_frequency\", \"analog_sensitivity\",\n",
        "        \"preamplifier_gain\", \"recorder_gain\", \"sensor_sensitivity\"\n",
        "    }\n",
        "\n",
        "    # Get variables from both files\n",
        "    variables_file1 = set(nc1.variables.keys())\n",
        "    variables_file2 = set(nc2.variables.keys())\n",
        "\n",
        "    # Find missing variables in file2\n",
        "    missing_in_file2 = expected_attributes - variables_file2\n",
        "\n",
        "    # Close the files\n",
        "    nc1.close()\n",
        "    nc2.close()\n",
        "\n",
        "    return missing_in_file2\n",
        "\n",
        "# Specify your file paths\n",
        "file1 = 'Output.nc'  # Reference file\n",
        "file2 = 'NRS01_H5R6B.1.5000_20180901_DAILY_MILLIDEC_MinRes_v3.nc'  # File to compare\n",
        "\n",
        "# Perform comparison\n",
        "missing_attributes = compare_netcdf_variables(file1, file2)\n",
        "\n",
        "# Display the results\n",
        "if missing_attributes:\n",
        "    print(\"Variables missing in file2 compared to file1:\")\n",
        "    for attr in missing_attributes:\n",
        "        print(f\"- {attr}\")\n",
        "else:\n",
        "    print(\"All expected variables are present in file2.\")\n"
      ]
    },
    {
      "cell_type": "code",
      "source": [
        "\n",
        "\n",
        "def compare_file_metadata(file1, file2):\n",
        "    \"\"\"\n",
        "    Compare metadata (static and dynamic) between two netCDF files.\n",
        "    Additionally, display metadata present in file1.\n",
        "\n",
        "    Parameters:\n",
        "        file1 (str): Path to the first netCDF file (reference file).\n",
        "        file2 (str): Path to the second netCDF file (comparison file).\n",
        "\n",
        "    Returns:\n",
        "        dict: Contains the differences in metadata between the two files.\n",
        "    \"\"\"\n",
        "    # Open the netCDF files\n",
        "    nc1 = netCDF4.Dataset(file1, mode='r')\n",
        "    nc2 = netCDF4.Dataset(file2, mode='r')\n",
        "\n",
        "    metadata_differences = {\n",
        "        \"global_missing_in_file2\": [],\n",
        "        \"global_extra_in_file2\": [],\n",
        "        \"global_in_file1\": [],\n",
        "        \"variable_missing_in_file2\": {},\n",
        "        \"variable_extra_in_file2\": {},\n",
        "        \"variable_in_file1\": {}\n",
        "    }\n",
        "\n",
        "    # Compare global metadata\n",
        "    file1_global_attrs = set(nc1.ncattrs())\n",
        "    file2_global_attrs = set(nc2.ncattrs())\n",
        "\n",
        "    metadata_differences[\"global_missing_in_file2\"] = list(file1_global_attrs - file2_global_attrs)\n",
        "    metadata_differences[\"global_extra_in_file2\"] = list(file2_global_attrs - file1_global_attrs)\n",
        "    metadata_differences[\"global_in_file1\"] = list(file1_global_attrs)\n",
        "\n",
        "    # Compare metadata for variables\n",
        "    for var in nc1.variables:\n",
        "        file1_var_attrs = set(nc1.variables[var].ncattrs())\n",
        "        metadata_differences[\"variable_in_file1\"][var] = list(file1_var_attrs)\n",
        "\n",
        "        if var in nc2.variables:\n",
        "            file2_var_attrs = set(nc2.variables[var].ncattrs())\n",
        "\n",
        "            missing_in_file2 = file1_var_attrs - file2_var_attrs\n",
        "            extra_in_file2 = file2_var_attrs - file1_var_attrs\n",
        "\n",
        "            if missing_in_file2:\n",
        "                metadata_differences[\"variable_missing_in_file2\"][var] = list(missing_in_file2)\n",
        "            if extra_in_file2:\n",
        "                metadata_differences[\"variable_extra_in_file2\"][var] = list(extra_in_file2)\n",
        "\n",
        "    # Close the netCDF files\n",
        "    nc1.close()\n",
        "    nc2.close()\n",
        "\n",
        "    return metadata_differences\n",
        "\n",
        "# Example usage\n",
        "file1 = 'Output.nc'  # Reference file\n",
        "file2 = 'NRS01_H5R6B.1.5000_20180901_DAILY_MILLIDEC_MinRes_v3.nc'  # File to compare\n",
        "\n",
        "metadata_diff = compare_file_metadata(file1, file2)\n",
        "\n",
        "# Display results\n",
        "print(\"Global attributes missing in file2:\", metadata_diff[\"global_missing_in_file2\"])\n",
        "print(\"Extra global attributes in file2:\", metadata_diff[\"global_extra_in_file2\"])\n",
        "print(\"Global attributes in file1:\", metadata_diff[\"global_in_file1\"])\n",
        "print(\"\\nVariable metadata missing in file2:\")\n",
        "for var, attrs in metadata_diff[\"variable_missing_in_file2\"].items():\n",
        "    print(f\"Variable '{var}': Missing attributes: {attrs}\")\n",
        "\n",
        "print(\"\\nExtra variable metadata in file2:\")\n",
        "for var, attrs in metadata_diff[\"variable_extra_in_file2\"].items():\n",
        "    print(f\"Variable '{var}': Extra attributes: {attrs}\")\n",
        "\n",
        "print(\"\\nVariable metadata in file1:\")\n",
        "for var, attrs in metadata_diff[\"variable_in_file1\"].items():\n",
        "    print(f\"Variable '{var}': Attributes in file1: {attrs}\")\n",
        "\n"
      ],
      "metadata": {
        "colab": {
          "base_uri": "https://localhost:8080/"
        },
        "id": "Qt6IMNl-kdK8",
        "outputId": "e832fde3-1072-45f7-fba3-1cb1e716e8a8"
      },
      "execution_count": 7,
      "outputs": [
        {
          "output_type": "stream",
          "name": "stdout",
          "text": [
            "Global attributes missing in file2: []\n",
            "Extra global attributes in file2: []\n",
            "Global attributes in file1: ['conventions', 'keywords', 'time_coverage_duration', 'history', 'time_coverage_resolution', 'summary', 'title', 'acknowledgement', 'product_version', 'creator_name', 'instrument', 'infoUrl', 'comment', 'license', 'project', 'publisher_email', 'institution', 'reference', 'time_offset', 'keywords_vocabulary', 'id', 'standard_name_vocabulary', 'publisher_type', 'citation', 'creator_role', 'naming_authority', 'geospatial_bounds', 'publisher_name', 'source', 'date_created', 'publisher_url']\n",
            "\n",
            "Variable metadata missing in file2:\n",
            "\n",
            "Extra variable metadata in file2:\n",
            "\n",
            "Variable metadata in file1:\n",
            "Variable 'timestamp': Attributes in file1: ['actual_range', 'long_name', 'units', 'standard_name']\n",
            "Variable 'effort': Attributes in file1: ['coverage_content_type', 'long_name', 'units']\n",
            "Variable 'psd': Attributes in file1: ['coverage_content_type', 'long_name', 'units', 'standard_name', 'comment']\n",
            "Variable 'quality_flag': Attributes in file1: ['coverage_content_type', 'long_name', 'comment', 'standard_name']\n",
            "Variable 'time': Attributes in file1: ['coverage_content_type', 'units', 'standard_name', 'actual_range', 'long_name']\n",
            "Variable 'frequency': Attributes in file1: ['coverage_content_type', 'units', 'standard_name', 'actual_range', 'long_name']\n",
            "Variable 'cal_frequency': Attributes in file1: ['long_name', 'units']\n",
            "Variable 'analog_sensitivity': Attributes in file1: ['comment', 'coverage_content_type', 'long_name', 'units']\n",
            "Variable 'preamp_gain': Attributes in file1: ['long_name', 'units']\n",
            "Variable 'recorder_gain': Attributes in file1: ['long_name', 'units']\n",
            "Variable 'sensor_sensitivity': Attributes in file1: ['comment', 'coverage_content_type', 'long_name', 'units']\n"
          ]
        }
      ]
    },
    {
      "cell_type": "markdown",
      "source": [
        "Comparing NRS01A Output 2 with the given output"
      ],
      "metadata": {
        "id": "_FoFzz32j-Fy"
      }
    },
    {
      "cell_type": "code",
      "source": [
        "\n",
        "\n",
        "def compare_netcdf_variables(file1, file2):\n",
        "    # Open the netCDF files\n",
        "    nc1 = netCDF4.Dataset(file1, mode='r')\n",
        "    nc2 = netCDF4.Dataset(file2, mode='r')\n",
        "\n",
        "    # Define the expected attributes in Output.nc\n",
        "    expected_attributes = {\n",
        "        \"timestamp\", \"effort\", \"psd\", \"quality_flag\", \"time\",\n",
        "        \"frequency\", \"cal_frequency\", \"analog_sensitivity\",\n",
        "        \"preamplifier_gain\", \"recorder_gain\", \"sensor_sensitivity\"\n",
        "    }\n",
        "\n",
        "    # Get variables from both files\n",
        "    variables_file1 = set(nc1.variables.keys())\n",
        "    variables_file2 = set(nc2.variables.keys())\n",
        "\n",
        "    # Find missing variables in file2\n",
        "    missing_in_file2 = expected_attributes - variables_file2\n",
        "\n",
        "    # Close the files\n",
        "    nc1.close()\n",
        "    nc2.close()\n",
        "\n",
        "    return missing_in_file2\n",
        "\n",
        "# Specify your file paths\n",
        "file1 = 'Output.nc'  # Reference file\n",
        "file2 = 'NRS01_H5R6B.1.5000_20180831_DAILY_MILLIDEC_MinRes_v3-2.nc'  # File to compare\n",
        "\n",
        "# Perform comparison\n",
        "missing_attributes = compare_netcdf_variables(file1, file2)\n",
        "\n",
        "# Display the results\n",
        "if missing_attributes:\n",
        "    print(\"Variables missing in file2 compared to file1:\")\n",
        "    for attr in missing_attributes:\n",
        "        print(f\"- {attr}\")\n",
        "else:\n",
        "    print(\"All expected variables are present in file2.\")"
      ],
      "metadata": {
        "colab": {
          "base_uri": "https://localhost:8080/"
        },
        "id": "XQpu11bpj82W",
        "outputId": "cab2bcad-6b6f-4930-b45d-23ae087dd893"
      },
      "execution_count": 8,
      "outputs": [
        {
          "output_type": "stream",
          "name": "stdout",
          "text": [
            "Variables missing in file2 compared to file1:\n",
            "- preamplifier_gain\n"
          ]
        }
      ]
    },
    {
      "cell_type": "code",
      "source": [
        "\n",
        "\n",
        "def compare_file_metadata(file1, file2):\n",
        "    \"\"\"\n",
        "    Compare metadata (static and dynamic) between two netCDF files.\n",
        "    Additionally, display metadata present in file1.\n",
        "\n",
        "    Parameters:\n",
        "        file1 (str): Path to the first netCDF file (reference file).\n",
        "        file2 (str): Path to the second netCDF file (comparison file).\n",
        "\n",
        "    Returns:\n",
        "        dict: Contains the differences in metadata between the two files.\n",
        "    \"\"\"\n",
        "    # Open the netCDF files\n",
        "    nc1 = netCDF4.Dataset(file1, mode='r')\n",
        "    nc2 = netCDF4.Dataset(file2, mode='r')\n",
        "\n",
        "    metadata_differences = {\n",
        "        \"global_missing_in_file2\": [],\n",
        "        \"global_extra_in_file2\": [],\n",
        "        \"global_in_file1\": [],\n",
        "        \"variable_missing_in_file2\": {},\n",
        "        \"variable_extra_in_file2\": {},\n",
        "        \"variable_in_file1\": {}\n",
        "    }\n",
        "\n",
        "    # Compare global metadata\n",
        "    file1_global_attrs = set(nc1.ncattrs())\n",
        "    file2_global_attrs = set(nc2.ncattrs())\n",
        "\n",
        "    metadata_differences[\"global_missing_in_file2\"] = list(file1_global_attrs - file2_global_attrs)\n",
        "    metadata_differences[\"global_extra_in_file2\"] = list(file2_global_attrs - file1_global_attrs)\n",
        "    metadata_differences[\"global_in_file1\"] = list(file1_global_attrs)\n",
        "\n",
        "    # Compare metadata for variables\n",
        "    for var in nc1.variables:\n",
        "        file1_var_attrs = set(nc1.variables[var].ncattrs())\n",
        "        metadata_differences[\"variable_in_file1\"][var] = list(file1_var_attrs)\n",
        "\n",
        "        if var in nc2.variables:\n",
        "            file2_var_attrs = set(nc2.variables[var].ncattrs())\n",
        "\n",
        "            missing_in_file2 = file1_var_attrs - file2_var_attrs\n",
        "            extra_in_file2 = file2_var_attrs - file1_var_attrs\n",
        "\n",
        "            if missing_in_file2:\n",
        "                metadata_differences[\"variable_missing_in_file2\"][var] = list(missing_in_file2)\n",
        "            if extra_in_file2:\n",
        "                metadata_differences[\"variable_extra_in_file2\"][var] = list(extra_in_file2)\n",
        "\n",
        "    # Close the netCDF files\n",
        "    nc1.close()\n",
        "    nc2.close()\n",
        "\n",
        "    return metadata_differences\n",
        "\n",
        "# Example usage\n",
        "file1 = 'Output.nc'  # Reference file\n",
        "file2 = 'NRS01_H5R6B.1.5000_20180831_DAILY_MILLIDEC_MinRes_v3-2.nc'  # File to compare\n",
        "\n",
        "metadata_diff = compare_file_metadata(file1, file2)\n",
        "\n",
        "# Display results\n",
        "print(\"Global attributes missing in file2:\", metadata_diff[\"global_missing_in_file2\"])\n",
        "print(\"Extra global attributes in file2:\", metadata_diff[\"global_extra_in_file2\"])\n",
        "print(\"Global attributes in file1:\", metadata_diff[\"global_in_file1\"])\n",
        "print(\"\\nVariable metadata missing in file2:\")\n",
        "for var, attrs in metadata_diff[\"variable_missing_in_file2\"].items():\n",
        "    print(f\"Variable '{var}': Missing attributes: {attrs}\")\n",
        "\n",
        "print(\"\\nExtra variable metadata in file2:\")\n",
        "for var, attrs in metadata_diff[\"variable_extra_in_file2\"].items():\n",
        "    print(f\"Variable '{var}': Extra attributes: {attrs}\")\n",
        "\n",
        "print(\"\\nVariable metadata in file1:\")\n",
        "for var, attrs in metadata_diff[\"variable_in_file1\"].items():\n",
        "    print(f\"Variable '{var}': Attributes in file1: {attrs}\")"
      ],
      "metadata": {
        "colab": {
          "base_uri": "https://localhost:8080/"
        },
        "id": "n0ok49Zaj88X",
        "outputId": "77cc514f-84de-465a-95d8-9edd7e5a8810"
      },
      "execution_count": 9,
      "outputs": [
        {
          "output_type": "stream",
          "name": "stdout",
          "text": [
            "Global attributes missing in file2: []\n",
            "Extra global attributes in file2: []\n",
            "Global attributes in file1: ['conventions', 'keywords', 'time_coverage_duration', 'history', 'time_coverage_resolution', 'summary', 'title', 'acknowledgement', 'product_version', 'creator_name', 'instrument', 'infoUrl', 'comment', 'license', 'project', 'publisher_email', 'institution', 'reference', 'time_offset', 'keywords_vocabulary', 'id', 'standard_name_vocabulary', 'publisher_type', 'citation', 'creator_role', 'naming_authority', 'geospatial_bounds', 'publisher_name', 'source', 'date_created', 'publisher_url']\n",
            "\n",
            "Variable metadata missing in file2:\n",
            "\n",
            "Extra variable metadata in file2:\n",
            "\n",
            "Variable metadata in file1:\n",
            "Variable 'timestamp': Attributes in file1: ['actual_range', 'long_name', 'units', 'standard_name']\n",
            "Variable 'effort': Attributes in file1: ['coverage_content_type', 'long_name', 'units']\n",
            "Variable 'psd': Attributes in file1: ['coverage_content_type', 'long_name', 'units', 'standard_name', 'comment']\n",
            "Variable 'quality_flag': Attributes in file1: ['coverage_content_type', 'long_name', 'comment', 'standard_name']\n",
            "Variable 'time': Attributes in file1: ['coverage_content_type', 'units', 'standard_name', 'actual_range', 'long_name']\n",
            "Variable 'frequency': Attributes in file1: ['coverage_content_type', 'units', 'standard_name', 'actual_range', 'long_name']\n",
            "Variable 'cal_frequency': Attributes in file1: ['long_name', 'units']\n",
            "Variable 'analog_sensitivity': Attributes in file1: ['comment', 'coverage_content_type', 'long_name', 'units']\n",
            "Variable 'preamp_gain': Attributes in file1: ['long_name', 'units']\n",
            "Variable 'recorder_gain': Attributes in file1: ['long_name', 'units']\n",
            "Variable 'sensor_sensitivity': Attributes in file1: ['comment', 'coverage_content_type', 'long_name', 'units']\n"
          ]
        }
      ]
    },
    {
      "cell_type": "markdown",
      "source": [
        "#NRS01B"
      ],
      "metadata": {
        "id": "qrep5kotmtBX"
      }
    },
    {
      "cell_type": "markdown",
      "source": [
        "Comparing NRS01B output 1 with the given output"
      ],
      "metadata": {
        "id": "-K8Ek6Lfmv-u"
      }
    },
    {
      "cell_type": "code",
      "source": [
        "\n",
        "\n",
        "def compare_netcdf_variables(file1, file2):\n",
        "    # Open the netCDF files\n",
        "    nc1 = netCDF4.Dataset(file1, mode='r')\n",
        "    nc2 = netCDF4.Dataset(file2, mode='r')\n",
        "\n",
        "    # Define the expected attributes in Output.nc\n",
        "    expected_attributes = {\n",
        "        \"timestamp\", \"effort\", \"psd\", \"quality_flag\", \"time\",\n",
        "        \"frequency\", \"cal_frequency\", \"analog_sensitivity\",\n",
        "        \"preamplifier_gain\", \"recorder_gain\", \"sensor_sensitivity\"\n",
        "    }\n",
        "\n",
        "    # Get variables from both files\n",
        "    variables_file1 = set(nc1.variables.keys())\n",
        "    variables_file2 = set(nc2.variables.keys())\n",
        "\n",
        "    # Find missing variables in file2\n",
        "    missing_in_file2 = expected_attributes - variables_file2\n",
        "\n",
        "    # Close the files\n",
        "    nc1.close()\n",
        "    nc2.close()\n",
        "\n",
        "    return missing_in_file2\n",
        "\n",
        "# Specify your file paths\n",
        "file1 = 'Output.nc'  # Reference file\n",
        "file2 = 'NRS01_2022_H5R6.1.5000_20200917_DAILY_MILLIDEC_MinRes_v3.nc'  # File to compare\n",
        "\n",
        "# Perform comparison\n",
        "missing_attributes = compare_netcdf_variables(file1, file2)\n",
        "\n",
        "# Display the results\n",
        "if missing_attributes:\n",
        "    print(\"Variables missing in file2 compared to file1:\")\n",
        "    for attr in missing_attributes:\n",
        "        print(f\"- {attr}\")\n",
        "else:\n",
        "    print(\"All expected variables are present in file2.\")"
      ],
      "metadata": {
        "colab": {
          "base_uri": "https://localhost:8080/"
        },
        "id": "FWrW_A2qj8_Q",
        "outputId": "1750375f-95a3-441a-ce50-a67e9cfa96c6"
      },
      "execution_count": 10,
      "outputs": [
        {
          "output_type": "stream",
          "name": "stdout",
          "text": [
            "Variables missing in file2 compared to file1:\n",
            "- preamplifier_gain\n"
          ]
        }
      ]
    },
    {
      "cell_type": "code",
      "source": [
        "\n",
        "\n",
        "def compare_file_metadata(file1, file2):\n",
        "    \"\"\"\n",
        "    Compare metadata (static and dynamic) between two netCDF files.\n",
        "    Additionally, display metadata present in file1.\n",
        "\n",
        "    Parameters:\n",
        "        file1 (str): Path to the first netCDF file (reference file).\n",
        "        file2 (str): Path to the second netCDF file (comparison file).\n",
        "\n",
        "    Returns:\n",
        "        dict: Contains the differences in metadata between the two files.\n",
        "    \"\"\"\n",
        "    # Open the netCDF files\n",
        "    nc1 = netCDF4.Dataset(file1, mode='r')\n",
        "    nc2 = netCDF4.Dataset(file2, mode='r')\n",
        "\n",
        "    metadata_differences = {\n",
        "        \"global_missing_in_file2\": [],\n",
        "        \"global_extra_in_file2\": [],\n",
        "        \"global_in_file1\": [],\n",
        "        \"variable_missing_in_file2\": {},\n",
        "        \"variable_extra_in_file2\": {},\n",
        "        \"variable_in_file1\": {}\n",
        "    }\n",
        "\n",
        "    # Compare global metadata\n",
        "    file1_global_attrs = set(nc1.ncattrs())\n",
        "    file2_global_attrs = set(nc2.ncattrs())\n",
        "\n",
        "    metadata_differences[\"global_missing_in_file2\"] = list(file1_global_attrs - file2_global_attrs)\n",
        "    metadata_differences[\"global_extra_in_file2\"] = list(file2_global_attrs - file1_global_attrs)\n",
        "    metadata_differences[\"global_in_file1\"] = list(file1_global_attrs)\n",
        "\n",
        "    # Compare metadata for variables\n",
        "    for var in nc1.variables:\n",
        "        file1_var_attrs = set(nc1.variables[var].ncattrs())\n",
        "        metadata_differences[\"variable_in_file1\"][var] = list(file1_var_attrs)\n",
        "\n",
        "        if var in nc2.variables:\n",
        "            file2_var_attrs = set(nc2.variables[var].ncattrs())\n",
        "\n",
        "            missing_in_file2 = file1_var_attrs - file2_var_attrs\n",
        "            extra_in_file2 = file2_var_attrs - file1_var_attrs\n",
        "\n",
        "            if missing_in_file2:\n",
        "                metadata_differences[\"variable_missing_in_file2\"][var] = list(missing_in_file2)\n",
        "            if extra_in_file2:\n",
        "                metadata_differences[\"variable_extra_in_file2\"][var] = list(extra_in_file2)\n",
        "\n",
        "    # Close the netCDF files\n",
        "    nc1.close()\n",
        "    nc2.close()\n",
        "\n",
        "    return metadata_differences\n",
        "\n",
        "# Example usage\n",
        "file1 = 'Output.nc'  # Reference file\n",
        "file2 = 'NRS01_2022_H5R6.1.5000_20200917_DAILY_MILLIDEC_MinRes_v3.nc'  # File to compare\n",
        "\n",
        "metadata_diff = compare_file_metadata(file1, file2)\n",
        "\n",
        "# Display results\n",
        "print(\"Global attributes missing in file2:\", metadata_diff[\"global_missing_in_file2\"])\n",
        "print(\"Extra global attributes in file2:\", metadata_diff[\"global_extra_in_file2\"])\n",
        "print(\"Global attributes in file1:\", metadata_diff[\"global_in_file1\"])\n",
        "print(\"\\nVariable metadata missing in file2:\")\n",
        "for var, attrs in metadata_diff[\"variable_missing_in_file2\"].items():\n",
        "    print(f\"Variable '{var}': Missing attributes: {attrs}\")\n",
        "\n",
        "print(\"\\nExtra variable metadata in file2:\")\n",
        "for var, attrs in metadata_diff[\"variable_extra_in_file2\"].items():\n",
        "    print(f\"Variable '{var}': Extra attributes: {attrs}\")\n",
        "\n",
        "print(\"\\nVariable metadata in file1:\")\n",
        "for var, attrs in metadata_diff[\"variable_in_file1\"].items():\n",
        "    print(f\"Variable '{var}': Attributes in file1: {attrs}\")"
      ],
      "metadata": {
        "colab": {
          "base_uri": "https://localhost:8080/"
        },
        "id": "BxFpSGqXj9DM",
        "outputId": "1721a330-30f3-4930-c1dd-497bd69bbcd0"
      },
      "execution_count": 11,
      "outputs": [
        {
          "output_type": "stream",
          "name": "stdout",
          "text": [
            "Global attributes missing in file2: []\n",
            "Extra global attributes in file2: []\n",
            "Global attributes in file1: ['conventions', 'keywords', 'time_coverage_duration', 'history', 'time_coverage_resolution', 'summary', 'title', 'acknowledgement', 'product_version', 'creator_name', 'instrument', 'infoUrl', 'comment', 'license', 'project', 'publisher_email', 'institution', 'reference', 'time_offset', 'keywords_vocabulary', 'id', 'standard_name_vocabulary', 'publisher_type', 'citation', 'creator_role', 'naming_authority', 'geospatial_bounds', 'publisher_name', 'source', 'date_created', 'publisher_url']\n",
            "\n",
            "Variable metadata missing in file2:\n",
            "\n",
            "Extra variable metadata in file2:\n",
            "\n",
            "Variable metadata in file1:\n",
            "Variable 'timestamp': Attributes in file1: ['actual_range', 'long_name', 'units', 'standard_name']\n",
            "Variable 'effort': Attributes in file1: ['coverage_content_type', 'long_name', 'units']\n",
            "Variable 'psd': Attributes in file1: ['coverage_content_type', 'long_name', 'units', 'standard_name', 'comment']\n",
            "Variable 'quality_flag': Attributes in file1: ['coverage_content_type', 'long_name', 'comment', 'standard_name']\n",
            "Variable 'time': Attributes in file1: ['coverage_content_type', 'units', 'standard_name', 'actual_range', 'long_name']\n",
            "Variable 'frequency': Attributes in file1: ['coverage_content_type', 'units', 'standard_name', 'actual_range', 'long_name']\n",
            "Variable 'cal_frequency': Attributes in file1: ['long_name', 'units']\n",
            "Variable 'analog_sensitivity': Attributes in file1: ['comment', 'coverage_content_type', 'long_name', 'units']\n",
            "Variable 'preamp_gain': Attributes in file1: ['long_name', 'units']\n",
            "Variable 'recorder_gain': Attributes in file1: ['long_name', 'units']\n",
            "Variable 'sensor_sensitivity': Attributes in file1: ['comment', 'coverage_content_type', 'long_name', 'units']\n"
          ]
        }
      ]
    },
    {
      "cell_type": "markdown",
      "source": [
        "Comparing NRS01B Output 2 with the given output"
      ],
      "metadata": {
        "id": "lPotseIPnp9Q"
      }
    },
    {
      "cell_type": "code",
      "source": [
        "\n",
        "\n",
        "def compare_netcdf_variables(file1, file2):\n",
        "    # Open the netCDF files\n",
        "    nc1 = netCDF4.Dataset(file1, mode='r')\n",
        "    nc2 = netCDF4.Dataset(file2, mode='r')\n",
        "\n",
        "    # Define the expected attributes in Output.nc\n",
        "    expected_attributes = {\n",
        "        \"timestamp\", \"effort\", \"psd\", \"quality_flag\", \"time\",\n",
        "        \"frequency\", \"cal_frequency\", \"analog_sensitivity\",\n",
        "        \"preamplifier_gain\", \"recorder_gain\", \"sensor_sensitivity\"\n",
        "    }\n",
        "\n",
        "    # Get variables from both files\n",
        "    variables_file1 = set(nc1.variables.keys())\n",
        "    variables_file2 = set(nc2.variables.keys())\n",
        "\n",
        "    # Find missing variables in file2\n",
        "    missing_in_file2 = expected_attributes - variables_file2\n",
        "\n",
        "    # Close the files\n",
        "    nc1.close()\n",
        "    nc2.close()\n",
        "\n",
        "    return missing_in_file2\n",
        "\n",
        "# Specify your file paths\n",
        "file1 = 'Output.nc'  # Reference file\n",
        "file2 = 'NRS01_2022_H5R6.1.5000_20200916_DAILY_MILLIDEC_MinRes_v3.nc'  # File to compare\n",
        "\n",
        "# Perform comparison\n",
        "missing_attributes = compare_netcdf_variables(file1, file2)\n",
        "\n",
        "# Display the results\n",
        "if missing_attributes:\n",
        "    print(\"Variables missing in file2 compared to file1:\")\n",
        "    for attr in missing_attributes:\n",
        "        print(f\"- {attr}\")\n",
        "else:\n",
        "    print(\"All expected variables are present in file2.\")"
      ],
      "metadata": {
        "colab": {
          "base_uri": "https://localhost:8080/"
        },
        "id": "0O1xR6Pjnu8M",
        "outputId": "4529bb48-d895-4ee5-a634-312b332cc847"
      },
      "execution_count": 12,
      "outputs": [
        {
          "output_type": "stream",
          "name": "stdout",
          "text": [
            "Variables missing in file2 compared to file1:\n",
            "- preamplifier_gain\n"
          ]
        }
      ]
    },
    {
      "cell_type": "code",
      "source": [
        "\n",
        "\n",
        "def compare_file_metadata(file1, file2):\n",
        "    \"\"\"\n",
        "    Compare metadata (static and dynamic) between two netCDF files.\n",
        "    Additionally, display metadata present in file1.\n",
        "\n",
        "    Parameters:\n",
        "        file1 (str): Path to the first netCDF file (reference file).\n",
        "        file2 (str): Path to the second netCDF file (comparison file).\n",
        "\n",
        "    Returns:\n",
        "        dict: Contains the differences in metadata between the two files.\n",
        "    \"\"\"\n",
        "    # Open the netCDF files\n",
        "    nc1 = netCDF4.Dataset(file1, mode='r')\n",
        "    nc2 = netCDF4.Dataset(file2, mode='r')\n",
        "\n",
        "    metadata_differences = {\n",
        "        \"global_missing_in_file2\": [],\n",
        "        \"global_extra_in_file2\": [],\n",
        "        \"global_in_file1\": [],\n",
        "        \"variable_missing_in_file2\": {},\n",
        "        \"variable_extra_in_file2\": {},\n",
        "        \"variable_in_file1\": {}\n",
        "    }\n",
        "\n",
        "    # Compare global metadata\n",
        "    file1_global_attrs = set(nc1.ncattrs())\n",
        "    file2_global_attrs = set(nc2.ncattrs())\n",
        "\n",
        "    metadata_differences[\"global_missing_in_file2\"] = list(file1_global_attrs - file2_global_attrs)\n",
        "    metadata_differences[\"global_extra_in_file2\"] = list(file2_global_attrs - file1_global_attrs)\n",
        "    metadata_differences[\"global_in_file1\"] = list(file1_global_attrs)\n",
        "\n",
        "    # Compare metadata for variables\n",
        "    for var in nc1.variables:\n",
        "        file1_var_attrs = set(nc1.variables[var].ncattrs())\n",
        "        metadata_differences[\"variable_in_file1\"][var] = list(file1_var_attrs)\n",
        "\n",
        "        if var in nc2.variables:\n",
        "            file2_var_attrs = set(nc2.variables[var].ncattrs())\n",
        "\n",
        "            missing_in_file2 = file1_var_attrs - file2_var_attrs\n",
        "            extra_in_file2 = file2_var_attrs - file1_var_attrs\n",
        "\n",
        "            if missing_in_file2:\n",
        "                metadata_differences[\"variable_missing_in_file2\"][var] = list(missing_in_file2)\n",
        "            if extra_in_file2:\n",
        "                metadata_differences[\"variable_extra_in_file2\"][var] = list(extra_in_file2)\n",
        "\n",
        "    # Close the netCDF files\n",
        "    nc1.close()\n",
        "    nc2.close()\n",
        "\n",
        "    return metadata_differences\n",
        "\n",
        "# Example usage\n",
        "file1 = 'Output.nc'  # Reference file\n",
        "file2 = 'NRS01_2022_H5R6.1.5000_20200916_DAILY_MILLIDEC_MinRes_v3.nc'  # File to compare\n",
        "\n",
        "metadata_diff = compare_file_metadata(file1, file2)\n",
        "\n",
        "# Display results\n",
        "print(\"Global attributes missing in file2:\", metadata_diff[\"global_missing_in_file2\"])\n",
        "print(\"Extra global attributes in file2:\", metadata_diff[\"global_extra_in_file2\"])\n",
        "print(\"Global attributes in file1:\", metadata_diff[\"global_in_file1\"])\n",
        "print(\"\\nVariable metadata missing in file2:\")\n",
        "for var, attrs in metadata_diff[\"variable_missing_in_file2\"].items():\n",
        "    print(f\"Variable '{var}': Missing attributes: {attrs}\")\n",
        "\n",
        "print(\"\\nExtra variable metadata in file2:\")\n",
        "for var, attrs in metadata_diff[\"variable_extra_in_file2\"].items():\n",
        "    print(f\"Variable '{var}': Extra attributes: {attrs}\")\n",
        "\n",
        "print(\"\\nVariable metadata in file1:\")\n",
        "for var, attrs in metadata_diff[\"variable_in_file1\"].items():\n",
        "    print(f\"Variable '{var}': Attributes in file1: {attrs}\")"
      ],
      "metadata": {
        "colab": {
          "base_uri": "https://localhost:8080/"
        },
        "id": "H10PozdJnvB8",
        "outputId": "c99522ca-dd0e-490a-8c39-b7a86d19e1c1"
      },
      "execution_count": 13,
      "outputs": [
        {
          "output_type": "stream",
          "name": "stdout",
          "text": [
            "Global attributes missing in file2: []\n",
            "Extra global attributes in file2: []\n",
            "Global attributes in file1: ['conventions', 'keywords', 'time_coverage_duration', 'history', 'time_coverage_resolution', 'summary', 'title', 'acknowledgement', 'product_version', 'creator_name', 'instrument', 'infoUrl', 'comment', 'license', 'project', 'publisher_email', 'institution', 'reference', 'time_offset', 'keywords_vocabulary', 'id', 'standard_name_vocabulary', 'publisher_type', 'citation', 'creator_role', 'naming_authority', 'geospatial_bounds', 'publisher_name', 'source', 'date_created', 'publisher_url']\n",
            "\n",
            "Variable metadata missing in file2:\n",
            "\n",
            "Extra variable metadata in file2:\n",
            "\n",
            "Variable metadata in file1:\n",
            "Variable 'timestamp': Attributes in file1: ['actual_range', 'long_name', 'units', 'standard_name']\n",
            "Variable 'effort': Attributes in file1: ['coverage_content_type', 'long_name', 'units']\n",
            "Variable 'psd': Attributes in file1: ['coverage_content_type', 'long_name', 'units', 'standard_name', 'comment']\n",
            "Variable 'quality_flag': Attributes in file1: ['coverage_content_type', 'long_name', 'comment', 'standard_name']\n",
            "Variable 'time': Attributes in file1: ['coverage_content_type', 'units', 'standard_name', 'actual_range', 'long_name']\n",
            "Variable 'frequency': Attributes in file1: ['coverage_content_type', 'units', 'standard_name', 'actual_range', 'long_name']\n",
            "Variable 'cal_frequency': Attributes in file1: ['long_name', 'units']\n",
            "Variable 'analog_sensitivity': Attributes in file1: ['comment', 'coverage_content_type', 'long_name', 'units']\n",
            "Variable 'preamp_gain': Attributes in file1: ['long_name', 'units']\n",
            "Variable 'recorder_gain': Attributes in file1: ['long_name', 'units']\n",
            "Variable 'sensor_sensitivity': Attributes in file1: ['comment', 'coverage_content_type', 'long_name', 'units']\n"
          ]
        }
      ]
    },
    {
      "cell_type": "code",
      "source": [
        "\n",
        "\n",
        "def compare_variable_metadata(file1, file2):\n",
        "    \"\"\"\n",
        "    Compare variable metadata between two netCDF files.\n",
        "\n",
        "    Parameters:\n",
        "        file1 (str): Path to the reference file (given output).\n",
        "        file2 (str): Path to the file to compare (generated file).\n",
        "\n",
        "    Returns:\n",
        "        dict: Differences in variable metadata.\n",
        "    \"\"\"\n",
        "    nc1 = netCDF4.Dataset(file1, 'r')\n",
        "    nc2 = netCDF4.Dataset(file2, 'r')\n",
        "\n",
        "    metadata_comparison = {\n",
        "        \"missing_metadata_in_file2\": {},\n",
        "        \"extra_metadata_in_file2\": {},\n",
        "        \"variables_only_in_file1\": []\n",
        "    }\n",
        "\n",
        "    for var in nc1.variables:\n",
        "        if var not in nc2.variables:\n",
        "            metadata_comparison[\"variables_only_in_file1\"].append(var)\n",
        "        else:\n",
        "            # Compare metadata attributes for the variable\n",
        "            file1_attrs = set(nc1.variables[var].ncattrs())\n",
        "            file2_attrs = set(nc2.variables[var].ncattrs())\n",
        "\n",
        "            missing_in_file2 = file1_attrs - file2_attrs\n",
        "            extra_in_file2 = file2_attrs - file1_attrs\n",
        "\n",
        "            if missing_in_file2:\n",
        "                metadata_comparison[\"missing_metadata_in_file2\"][var] = list(missing_in_file2)\n",
        "            if extra_in_file2:\n",
        "                metadata_comparison[\"extra_metadata_in_file2\"][var] = list(extra_in_file2)\n",
        "\n",
        "    nc1.close()\n",
        "    nc2.close()\n",
        "\n",
        "    return metadata_comparison\n",
        "\n",
        "# Example usage\n",
        "file1 = 'Output.nc'  # Reference file\n",
        "file2 = 'NRS01_2022_H5R6.1.5000_20200916_DAILY_MILLIDEC_MinRes_v3.nc'  # File to compare\n",
        "\n",
        "result = compare_variable_metadata(file1, file2)\n",
        "\n",
        "print(\"Variables only in file1:\", result[\"variables_only_in_file1\"])\n",
        "print(\"Missing metadata in file2:\")\n",
        "for var, attrs in result[\"missing_metadata_in_file2\"].items():\n",
        "    print(f\"  - Variable '{var}': Missing attributes {attrs}\")\n",
        "print(\"Extra metadata in file2:\")\n",
        "for var, attrs in result[\"extra_metadata_in_file2\"].items():\n",
        "    print(f\"  - Variable '{var}': Extra attributes {attrs}\")\n"
      ],
      "metadata": {
        "colab": {
          "base_uri": "https://localhost:8080/"
        },
        "id": "yEYprHRuqAFY",
        "outputId": "58bab98d-25ab-4372-96da-2ad8364a48f3"
      },
      "execution_count": 14,
      "outputs": [
        {
          "output_type": "stream",
          "name": "stdout",
          "text": [
            "Variables only in file1: []\n",
            "Missing metadata in file2:\n",
            "Extra metadata in file2:\n"
          ]
        }
      ]
    },
    {
      "cell_type": "markdown",
      "source": [
        "### Conclusion\n",
        "\n",
        "The comparison between the generated files and the given output (`file1`) highlights the following:\n",
        "\n",
        "1. **Missing Variables**:  \n",
        "   - The variable `preamplifier_gain` is absent in all the generated files. This variable must be included to match the format and content of the given output.\n",
        "\n",
        "2. **Global Attributes**:  \n",
        "   - All global attributes from the given output are present in the generated files, and there are no extra attributes. This confirms that the global metadata is consistent across files and does not require changes.\n",
        "\n",
        "3. **Variable Metadata**:  \n",
        "   - While the metadata attributes for all variables in the given output are detailed and comprehensive, the generated files are missing the variable `preamplifier_gain` entirely. The associated attributes (`long_name`, `units`) also need to be added once the variable is incorporated.\n",
        "\n",
        "4. **Variables and Metadata Presence**:  \n",
        "   - All other variables from the given output are present in the generated files, with no missing or extra metadata attributes for these variables.\n",
        "\n",
        "Overall, apart from the missing variable `preamplifier_gain` and its associated attributes, the generated files are consistent with the given output in terms of global attributes, variables, and metadata."
      ],
      "metadata": {
        "id": "QXCBy4Pqq5Cc"
      }
    }
  ]
}